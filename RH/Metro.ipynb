{
 "cells": [
  {
   "cell_type": "code",
   "execution_count": 1,
   "metadata": {},
   "outputs": [],
   "source": [
    "%pip install plotly\n",
    "%pip install nbformat\n",
    "import pandas as pd\n",
    "import plotly.express as px"
   ]
  },
  {
   "cell_type": "code",
   "execution_count": 2,
   "metadata": {},
   "outputs": [
    {
     "data": {
      "text/html": [
       "<div>\n",
       "<style scoped>\n",
       "    .dataframe tbody tr th:only-of-type {\n",
       "        vertical-align: middle;\n",
       "    }\n",
       "\n",
       "    .dataframe tbody tr th {\n",
       "        vertical-align: top;\n",
       "    }\n",
       "\n",
       "    .dataframe thead th {\n",
       "        text-align: right;\n",
       "    }\n",
       "</style>\n",
       "<table border=\"1\" class=\"dataframe\">\n",
       "  <thead>\n",
       "    <tr style=\"text-align: right;\">\n",
       "      <th></th>\n",
       "      <th>station</th>\n",
       "      <th>potok</th>\n",
       "      <th>line</th>\n",
       "    </tr>\n",
       "  </thead>\n",
       "  <tbody>\n",
       "    <tr>\n",
       "      <th>78</th>\n",
       "      <td>Комсомольская</td>\n",
       "      <td>187.1</td>\n",
       "      <td>Кольцевая</td>\n",
       "    </tr>\n",
       "    <tr>\n",
       "      <th>148</th>\n",
       "      <td>Выхино</td>\n",
       "      <td>176.6</td>\n",
       "      <td>Таганско-Краснопресненская</td>\n",
       "    </tr>\n",
       "    <tr>\n",
       "      <th>55</th>\n",
       "      <td>ВДНХ</td>\n",
       "      <td>133.9</td>\n",
       "      <td>Калужско-рижская</td>\n",
       "    </tr>\n",
       "    <tr>\n",
       "      <th>161</th>\n",
       "      <td>Тушинская</td>\n",
       "      <td>128.8</td>\n",
       "      <td>Таганско-Краснопресненская</td>\n",
       "    </tr>\n",
       "    <tr>\n",
       "      <th>142</th>\n",
       "      <td>Юго-Западная</td>\n",
       "      <td>128.6</td>\n",
       "      <td>Сокольническая</td>\n",
       "    </tr>\n",
       "    <tr>\n",
       "      <th>...</th>\n",
       "      <td>...</td>\n",
       "      <td>...</td>\n",
       "      <td>...</td>\n",
       "    </tr>\n",
       "    <tr>\n",
       "      <th>115</th>\n",
       "      <td>Севастопольская</td>\n",
       "      <td>13.1</td>\n",
       "      <td>Серпуховско-Тимирязевская</td>\n",
       "    </tr>\n",
       "    <tr>\n",
       "      <th>174</th>\n",
       "      <td>Пионерская</td>\n",
       "      <td>12.7</td>\n",
       "      <td>Филевская</td>\n",
       "    </tr>\n",
       "    <tr>\n",
       "      <th>93</th>\n",
       "      <td>Крестьянская застава</td>\n",
       "      <td>10.7</td>\n",
       "      <td>Люблинская</td>\n",
       "    </tr>\n",
       "    <tr>\n",
       "      <th>89</th>\n",
       "      <td>Братиславская</td>\n",
       "      <td>10.4</td>\n",
       "      <td>Люблинская</td>\n",
       "    </tr>\n",
       "    <tr>\n",
       "      <th>97</th>\n",
       "      <td>Римская</td>\n",
       "      <td>9.3</td>\n",
       "      <td>Люблинская</td>\n",
       "    </tr>\n",
       "  </tbody>\n",
       "</table>\n",
       "<p>160 rows × 3 columns</p>\n",
       "</div>"
      ],
      "text/plain": [
       "                  station  potok                        line\n",
       "78          Комсомольская  187.1                   Кольцевая\n",
       "148                Выхино  176.6  Таганско-Краснопресненская\n",
       "55                   ВДНХ  133.9            Калужско-рижская\n",
       "161             Тушинская  128.8  Таганско-Краснопресненская\n",
       "142          Юго-Западная  128.6              Сокольническая\n",
       "..                    ...    ...                         ...\n",
       "115       Севастопольская   13.1   Серпуховско-Тимирязевская\n",
       "174            Пионерская   12.7                   Филевская\n",
       "93   Крестьянская застава   10.7                  Люблинская\n",
       "89          Братиславская   10.4                  Люблинская\n",
       "97                Римская    9.3                  Люблинская\n",
       "\n",
       "[160 rows x 3 columns]"
      ]
     },
     "metadata": {},
     "output_type": "display_data"
    }
   ],
   "source": [
    "df_metro = pd.read_csv('c:/ps/project/RH/passazhiropotok-metro2017.csv', delimiter=';', decimal=\",\")\n",
    "df_metro = df_metro.dropna()\n",
    "df_metro = df_metro[df_metro['Станция'].str.contains('Итого') != True]\n",
    "df_metro.columns = ['station', 'potok', 'line']\n",
    "df_metro = df_metro.astype({'station': 'string', 'potok':float, 'line': 'string'})\n",
    "display(df_metro.sort_values(by='potok', ascending=False))\n"
   ]
  },
  {
   "cell_type": "code",
   "execution_count": 3,
   "metadata": {},
   "outputs": [
    {
     "name": "stdout",
     "output_type": "stream",
     "text": [
      "<class 'pandas.core.frame.DataFrame'>\n",
      "Index: 160 entries, 1 to 178\n",
      "Data columns (total 3 columns):\n",
      " #   Column   Non-Null Count  Dtype  \n",
      "---  ------   --------------  -----  \n",
      " 0   station  160 non-null    string \n",
      " 1   potok    160 non-null    float64\n",
      " 2   line     160 non-null    string \n",
      "dtypes: float64(1), string(2)\n",
      "memory usage: 5.0 KB\n"
     ]
    },
    {
     "data": {
      "text/plain": [
       "None"
      ]
     },
     "metadata": {},
     "output_type": "display_data"
    }
   ],
   "source": [
    "display(df_metro.info())"
   ]
  },
  {
   "cell_type": "code",
   "execution_count": 4,
   "metadata": {},
   "outputs": [
    {
     "data": {
      "text/plain": [
       "165"
      ]
     },
     "metadata": {},
     "output_type": "display_data"
    }
   ],
   "source": [
    "df_coord = pd.read_csv('c:/ps/project/RH/stations_coord.csv', delimiter=';', decimal=\",\")\n",
    "df_coord.columns = ['station', 'X', 'Y']\n",
    "display(len(df_coord['station']))\n",
    "df_metro = pd.merge(df_metro, df_coord, on='station', how='left')"
   ]
  },
  {
   "cell_type": "code",
   "execution_count": 5,
   "metadata": {},
   "outputs": [
    {
     "data": {
      "text/html": [
       "<div>\n",
       "<style scoped>\n",
       "    .dataframe tbody tr th:only-of-type {\n",
       "        vertical-align: middle;\n",
       "    }\n",
       "\n",
       "    .dataframe tbody tr th {\n",
       "        vertical-align: top;\n",
       "    }\n",
       "\n",
       "    .dataframe thead th {\n",
       "        text-align: right;\n",
       "    }\n",
       "</style>\n",
       "<table border=\"1\" class=\"dataframe\">\n",
       "  <thead>\n",
       "    <tr style=\"text-align: right;\">\n",
       "      <th></th>\n",
       "      <th>station</th>\n",
       "      <th>potok</th>\n",
       "      <th>line</th>\n",
       "      <th>X</th>\n",
       "      <th>Y</th>\n",
       "    </tr>\n",
       "  </thead>\n",
       "  <tbody>\n",
       "    <tr>\n",
       "      <th>3</th>\n",
       "      <td>Измайловский парк</td>\n",
       "      <td>55.9</td>\n",
       "      <td>Арбатско-Покровская</td>\n",
       "      <td>NaN</td>\n",
       "      <td>NaN</td>\n",
       "    </tr>\n",
       "  </tbody>\n",
       "</table>\n",
       "</div>"
      ],
      "text/plain": [
       "             station  potok                 line    X    Y\n",
       "3  Измайловский парк   55.9  Арбатско-Покровская  NaN  NaN"
      ]
     },
     "metadata": {},
     "output_type": "display_data"
    }
   ],
   "source": [
    "display((df_metro[df_metro.isna().any(axis=1)]).sort_values(by='station'))"
   ]
  },
  {
   "cell_type": "code",
   "execution_count": 6,
   "metadata": {},
   "outputs": [
    {
     "data": {
      "application/vnd.plotly.v1+json": {
       "config": {
        "plotlyServerURL": "https://plot.ly"
       },
       "data": [
        {
         "coloraxis": "coloraxis",
         "hovertemplate": "potok=%{z}<br>X=%{lat}<br>Y=%{lon}<extra></extra>",
         "lat": [
          "55.75228",
          "55.77228",
          "55.78768",
          null,
          "55.74388",
          "55.75848",
          "55.79342",
          "55.75646",
          "55.78279",
          "55.74823",
          "55.80955",
          "55.78177",
          "55.70801",
          "55.79981",
          "55.77492",
          "55.65381",
          "55.8386",
          "55.81811",
          "55.78867",
          "55.61009",
          "55.6343",
          "55.65332",
          "55.65412",
          "55.65412",
          "55.67745",
          "55.614491",
          "55.76909",
          "55.74212",
          "55.61214",
          "55.7313",
          "55.85378",
          "55.80518",
          "55.7652",
          "55.75857",
          "55.62011",
          "55.75208",
          "55.7407",
          "55.75111",
          "55.75109",
          "55.745663",
          "55.74061",
          "55.75837",
          "55.68808",
          "55.80737",
          "55.86814",
          "55.64371",
          "55.60029",
          "55.84649",
          "55.82177",
          "55.65566",
          "55.75634",
          "55.753903",
          "55.63253",
          "55.70818",
          "55.88594",
          "55.66892",
          "55.729",
          "55.781196",
          "55.67822",
          "55.79222",
          "55.85543",
          "55.77211",
          "55.61814",
          "55.74061",
          "55.7646",
          "55.71886",
          "55.60535",
          "55.77492",
          "55.72886",
          "55.74388",
          "55.77717",
          "55.760109",
          "55.75848",
          "55.77921",
          "55.729",
          "55.7313",
          "55.73512",
          "55.781196",
          "55.74255",
          "55.66126",
          "55.69101",
          "55.719732",
          "55.70533",
          "55.732877",
          "55.67694",
          "55.65193",
          "55.69252",
          "55.746487",
          "55.756218",
          "55.89504",
          "55.88294",
          "55.75034",
          "55.84669",
          "55.80756",
          "55.78251",
          "55.68386",
          "55.67283",
          "55.66376",
          "55.86417",
          "55.83712",
          "55.73654",
          "55.61354",
          "55.79421",
          "55.65121",
          "55.72658",
          "55.81842",
          "55.70901",
          "55.7716",
          "55.63978",
          "55.76596",
          "55.62122",
          "55.75211",
          "55.77717",
          "55.780763",
          "55.76958",
          "55.74525",
          "55.75876",
          "55.75703",
          "55.73512",
          "55.67613",
          "55.79655",
          "55.78893",
          "55.72397",
          "55.81503",
          "55.81336",
          "55.69167",
          "55.72718",
          "55.802",
          "55.76426",
          "55.66464",
          "55.76027",
          "55.77378",
          "55.7243",
          "55.715",
          "55.75634",
          "55.753903",
          "55.76118",
          "55.70531",
          "55.793615",
          "55.85931",
          "55.77691",
          "55.73171",
          "55.76565",
          "55.71753",
          "55.84937",
          "55.74255",
          "55.70947",
          "55.8258",
          "55.76355",
          "55.80796",
          "55.75219",
          "55.75228",
          "55.74326",
          "55.74388",
          "55.75879",
          "55.73045",
          "55.73947",
          "55.74001",
          "55.73583",
          "55.74823",
          "55.73873",
          "55.73953",
          "55.74673"
         ],
         "lon": [
          "37.60357",
          "37.67857",
          "37.78329",
          null,
          "37.56673",
          "37.65985",
          "37.79979",
          "37.62321",
          "37.71844",
          "37.58384",
          "37.79884",
          "37.70471",
          "37.65858",
          "37.53412",
          "37.58207",
          "37.62084",
          "37.48749",
          "37.49905",
          "37.55936",
          "37.71612",
          "37.65632",
          "37.59722",
          "37.64738",
          "37.64738",
          "37.66298",
          "37.744724",
          "37.59635",
          "37.62901",
          "37.69584",
          "37.63612",
          "37.47679",
          "37.51495",
          "37.60352",
          "37.6177",
          "37.66939",
          "37.71677",
          "37.65773",
          "37.81564",
          "37.78854",
          "37.681123",
          "37.62492",
          "37.75155",
          "37.57501",
          "37.63844",
          "37.66292",
          "37.52762",
          "37.55735",
          "37.63914",
          "37.64107",
          "37.53923",
          "37.63002",
          "37.635405",
          "37.52005",
          "37.58742",
          "37.6612",
          "37.55417",
          "37.61139",
          "37.633529",
          "37.56381",
          "37.63557",
          "37.65419",
          "37.63239",
          "37.50814",
          "37.62492",
          "37.63623",
          "37.60797",
          "37.53494",
          "37.58207",
          "37.62356",
          "37.56673",
          "37.655689",
          "37.577141",
          "37.65985",
          "37.6009",
          "37.61139",
          "37.63612",
          "37.59328",
          "37.633529",
          "37.65389",
          "37.7509",
          "37.75498",
          "37.676915",
          "37.68508",
          "37.668998",
          "37.76316",
          "37.74771",
          "37.7295",
          "37.682631",
          "37.659375",
          "37.58605",
          "37.60523",
          "37.60857",
          "37.59251",
          "37.57959",
          "37.59792",
          "37.62285",
          "37.61019",
          "37.60767",
          "37.60488",
          "37.57349",
          "37.61856",
          "37.60499",
          "37.58666",
          "37.59939",
          "37.62462",
          "37.57571",
          "37.6226",
          "37.62058",
          "37.60893",
          "37.6075",
          "37.60752",
          "37.60988",
          "37.655689",
          "37.666264",
          "37.6499",
          "37.60463",
          "37.62573",
          "37.61614",
          "37.59328",
          "37.5045",
          "37.71591",
          "37.67943",
          "37.56547",
          "37.73209",
          "37.73524",
          "37.53433",
          "37.58036",
          "37.74438",
          "37.6389",
          "37.48421",
          "37.58111",
          "37.54412",
          "37.68795",
          "37.81802",
          "37.63002",
          "37.635405",
          "37.62386",
          "37.76775",
          "37.493496",
          "37.43687",
          "37.51692",
          "37.66726",
          "37.60417",
          "37.79425",
          "37.43951",
          "37.65389",
          "37.73282",
          "37.43621",
          "37.56375",
          "37.46629",
          "37.60836",
          "37.60357",
          "37.49753",
          "37.56673",
          "37.40633",
          "37.44646",
          "37.53433",
          "37.41724",
          "37.46731",
          "37.58384",
          "37.54825",
          "37.48366",
          "37.51384"
         ],
         "name": "",
         "radius": 40,
         "subplot": "mapbox",
         "type": "densitymapbox",
         "z": [
          59.5,
          65.6,
          40.3,
          55.9,
          57.3,
          20.2,
          63,
          96.3,
          51.8,
          55.1,
          124.2,
          54,
          60.7,
          63.6,
          58.7,
          47.4,
          54,
          93.2,
          68.6,
          86.8,
          65.5,
          52.5,
          62.1,
          16.9,
          97.9,
          78.3,
          60,
          67.9,
          35.2,
          60.9,
          121.2,
          82.7,
          72.9,
          96.3,
          96.4,
          58.7,
          40.2,
          114,
          53.8,
          44.7,
          67.9,
          40.3,
          62,
          65.4,
          88.3,
          56.4,
          18.3,
          30.1,
          133.9,
          57.1,
          51.3,
          51.3,
          64.5,
          71.3,
          83.6,
          53.8,
          31.4,
          37.7,
          70.8,
          50,
          48.3,
          36.9,
          79.2,
          67.9,
          40.8,
          44.9,
          70.3,
          73,
          37.7,
          89.7,
          187.1,
          38.8,
          78.7,
          58.4,
          58.1,
          39.2,
          82.9,
          52.2,
          53.3,
          10.4,
          20.9,
          14.3,
          24.1,
          10.7,
          28.3,
          53.8,
          22.7,
          9.3,
          47.7,
          71.8,
          57.7,
          14.1,
          31.2,
          40.3,
          24.3,
          53.7,
          17.9,
          32.6,
          92.1,
          116.1,
          25.3,
          118.3,
          61.4,
          13.1,
          24.6,
          72.3,
          45.1,
          39.7,
          56.5,
          37.1,
          47.8,
          59.5,
          69.5,
          26.3,
          46.3,
          41.2,
          43.7,
          82,
          66.6,
          68.8,
          70.6,
          59.1,
          95.6,
          44.5,
          44.5,
          87,
          45.5,
          94.7,
          28.6,
          128.6,
          39.6,
          61.7,
          25.6,
          176.6,
          51.3,
          51.3,
          70.1,
          116,
          75.6,
          48.7,
          75.1,
          63.4,
          110,
          64.2,
          82.7,
          20.9,
          118.8,
          128.8,
          82.3,
          89.1,
          38.2,
          19.1,
          34.8,
          57.3,
          39,
          30.1,
          32.5,
          49.9,
          12.7,
          17.2,
          16.5,
          29.5,
          35.8
         ]
        }
       ],
       "layout": {
        "coloraxis": {
         "colorbar": {
          "title": {
           "text": "potok"
          }
         },
         "colorscale": [
          [
           0,
           "#0d0887"
          ],
          [
           0.1111111111111111,
           "#46039f"
          ],
          [
           0.2222222222222222,
           "#7201a8"
          ],
          [
           0.3333333333333333,
           "#9c179e"
          ],
          [
           0.4444444444444444,
           "#bd3786"
          ],
          [
           0.5555555555555556,
           "#d8576b"
          ],
          [
           0.6666666666666666,
           "#ed7953"
          ],
          [
           0.7777777777777778,
           "#fb9f3a"
          ],
          [
           0.8888888888888888,
           "#fdca26"
          ],
          [
           1,
           "#f0f921"
          ]
         ]
        },
        "legend": {
         "tracegroupgap": 0
        },
        "mapbox": {
         "center": {
          "lat": 55.75876,
          "lon": 37.62573
         },
         "domain": {
          "x": [
           0,
           1
          ],
          "y": [
           0,
           1
          ]
         },
         "style": "open-street-map",
         "zoom": 9
        },
        "margin": {
         "t": 60
        },
        "template": {
         "data": {
          "bar": [
           {
            "error_x": {
             "color": "#2a3f5f"
            },
            "error_y": {
             "color": "#2a3f5f"
            },
            "marker": {
             "line": {
              "color": "#E5ECF6",
              "width": 0.5
             },
             "pattern": {
              "fillmode": "overlay",
              "size": 10,
              "solidity": 0.2
             }
            },
            "type": "bar"
           }
          ],
          "barpolar": [
           {
            "marker": {
             "line": {
              "color": "#E5ECF6",
              "width": 0.5
             },
             "pattern": {
              "fillmode": "overlay",
              "size": 10,
              "solidity": 0.2
             }
            },
            "type": "barpolar"
           }
          ],
          "carpet": [
           {
            "aaxis": {
             "endlinecolor": "#2a3f5f",
             "gridcolor": "white",
             "linecolor": "white",
             "minorgridcolor": "white",
             "startlinecolor": "#2a3f5f"
            },
            "baxis": {
             "endlinecolor": "#2a3f5f",
             "gridcolor": "white",
             "linecolor": "white",
             "minorgridcolor": "white",
             "startlinecolor": "#2a3f5f"
            },
            "type": "carpet"
           }
          ],
          "choropleth": [
           {
            "colorbar": {
             "outlinewidth": 0,
             "ticks": ""
            },
            "type": "choropleth"
           }
          ],
          "contour": [
           {
            "colorbar": {
             "outlinewidth": 0,
             "ticks": ""
            },
            "colorscale": [
             [
              0,
              "#0d0887"
             ],
             [
              0.1111111111111111,
              "#46039f"
             ],
             [
              0.2222222222222222,
              "#7201a8"
             ],
             [
              0.3333333333333333,
              "#9c179e"
             ],
             [
              0.4444444444444444,
              "#bd3786"
             ],
             [
              0.5555555555555556,
              "#d8576b"
             ],
             [
              0.6666666666666666,
              "#ed7953"
             ],
             [
              0.7777777777777778,
              "#fb9f3a"
             ],
             [
              0.8888888888888888,
              "#fdca26"
             ],
             [
              1,
              "#f0f921"
             ]
            ],
            "type": "contour"
           }
          ],
          "contourcarpet": [
           {
            "colorbar": {
             "outlinewidth": 0,
             "ticks": ""
            },
            "type": "contourcarpet"
           }
          ],
          "heatmap": [
           {
            "colorbar": {
             "outlinewidth": 0,
             "ticks": ""
            },
            "colorscale": [
             [
              0,
              "#0d0887"
             ],
             [
              0.1111111111111111,
              "#46039f"
             ],
             [
              0.2222222222222222,
              "#7201a8"
             ],
             [
              0.3333333333333333,
              "#9c179e"
             ],
             [
              0.4444444444444444,
              "#bd3786"
             ],
             [
              0.5555555555555556,
              "#d8576b"
             ],
             [
              0.6666666666666666,
              "#ed7953"
             ],
             [
              0.7777777777777778,
              "#fb9f3a"
             ],
             [
              0.8888888888888888,
              "#fdca26"
             ],
             [
              1,
              "#f0f921"
             ]
            ],
            "type": "heatmap"
           }
          ],
          "heatmapgl": [
           {
            "colorbar": {
             "outlinewidth": 0,
             "ticks": ""
            },
            "colorscale": [
             [
              0,
              "#0d0887"
             ],
             [
              0.1111111111111111,
              "#46039f"
             ],
             [
              0.2222222222222222,
              "#7201a8"
             ],
             [
              0.3333333333333333,
              "#9c179e"
             ],
             [
              0.4444444444444444,
              "#bd3786"
             ],
             [
              0.5555555555555556,
              "#d8576b"
             ],
             [
              0.6666666666666666,
              "#ed7953"
             ],
             [
              0.7777777777777778,
              "#fb9f3a"
             ],
             [
              0.8888888888888888,
              "#fdca26"
             ],
             [
              1,
              "#f0f921"
             ]
            ],
            "type": "heatmapgl"
           }
          ],
          "histogram": [
           {
            "marker": {
             "pattern": {
              "fillmode": "overlay",
              "size": 10,
              "solidity": 0.2
             }
            },
            "type": "histogram"
           }
          ],
          "histogram2d": [
           {
            "colorbar": {
             "outlinewidth": 0,
             "ticks": ""
            },
            "colorscale": [
             [
              0,
              "#0d0887"
             ],
             [
              0.1111111111111111,
              "#46039f"
             ],
             [
              0.2222222222222222,
              "#7201a8"
             ],
             [
              0.3333333333333333,
              "#9c179e"
             ],
             [
              0.4444444444444444,
              "#bd3786"
             ],
             [
              0.5555555555555556,
              "#d8576b"
             ],
             [
              0.6666666666666666,
              "#ed7953"
             ],
             [
              0.7777777777777778,
              "#fb9f3a"
             ],
             [
              0.8888888888888888,
              "#fdca26"
             ],
             [
              1,
              "#f0f921"
             ]
            ],
            "type": "histogram2d"
           }
          ],
          "histogram2dcontour": [
           {
            "colorbar": {
             "outlinewidth": 0,
             "ticks": ""
            },
            "colorscale": [
             [
              0,
              "#0d0887"
             ],
             [
              0.1111111111111111,
              "#46039f"
             ],
             [
              0.2222222222222222,
              "#7201a8"
             ],
             [
              0.3333333333333333,
              "#9c179e"
             ],
             [
              0.4444444444444444,
              "#bd3786"
             ],
             [
              0.5555555555555556,
              "#d8576b"
             ],
             [
              0.6666666666666666,
              "#ed7953"
             ],
             [
              0.7777777777777778,
              "#fb9f3a"
             ],
             [
              0.8888888888888888,
              "#fdca26"
             ],
             [
              1,
              "#f0f921"
             ]
            ],
            "type": "histogram2dcontour"
           }
          ],
          "mesh3d": [
           {
            "colorbar": {
             "outlinewidth": 0,
             "ticks": ""
            },
            "type": "mesh3d"
           }
          ],
          "parcoords": [
           {
            "line": {
             "colorbar": {
              "outlinewidth": 0,
              "ticks": ""
             }
            },
            "type": "parcoords"
           }
          ],
          "pie": [
           {
            "automargin": true,
            "type": "pie"
           }
          ],
          "scatter": [
           {
            "fillpattern": {
             "fillmode": "overlay",
             "size": 10,
             "solidity": 0.2
            },
            "type": "scatter"
           }
          ],
          "scatter3d": [
           {
            "line": {
             "colorbar": {
              "outlinewidth": 0,
              "ticks": ""
             }
            },
            "marker": {
             "colorbar": {
              "outlinewidth": 0,
              "ticks": ""
             }
            },
            "type": "scatter3d"
           }
          ],
          "scattercarpet": [
           {
            "marker": {
             "colorbar": {
              "outlinewidth": 0,
              "ticks": ""
             }
            },
            "type": "scattercarpet"
           }
          ],
          "scattergeo": [
           {
            "marker": {
             "colorbar": {
              "outlinewidth": 0,
              "ticks": ""
             }
            },
            "type": "scattergeo"
           }
          ],
          "scattergl": [
           {
            "marker": {
             "colorbar": {
              "outlinewidth": 0,
              "ticks": ""
             }
            },
            "type": "scattergl"
           }
          ],
          "scattermapbox": [
           {
            "marker": {
             "colorbar": {
              "outlinewidth": 0,
              "ticks": ""
             }
            },
            "type": "scattermapbox"
           }
          ],
          "scatterpolar": [
           {
            "marker": {
             "colorbar": {
              "outlinewidth": 0,
              "ticks": ""
             }
            },
            "type": "scatterpolar"
           }
          ],
          "scatterpolargl": [
           {
            "marker": {
             "colorbar": {
              "outlinewidth": 0,
              "ticks": ""
             }
            },
            "type": "scatterpolargl"
           }
          ],
          "scatterternary": [
           {
            "marker": {
             "colorbar": {
              "outlinewidth": 0,
              "ticks": ""
             }
            },
            "type": "scatterternary"
           }
          ],
          "surface": [
           {
            "colorbar": {
             "outlinewidth": 0,
             "ticks": ""
            },
            "colorscale": [
             [
              0,
              "#0d0887"
             ],
             [
              0.1111111111111111,
              "#46039f"
             ],
             [
              0.2222222222222222,
              "#7201a8"
             ],
             [
              0.3333333333333333,
              "#9c179e"
             ],
             [
              0.4444444444444444,
              "#bd3786"
             ],
             [
              0.5555555555555556,
              "#d8576b"
             ],
             [
              0.6666666666666666,
              "#ed7953"
             ],
             [
              0.7777777777777778,
              "#fb9f3a"
             ],
             [
              0.8888888888888888,
              "#fdca26"
             ],
             [
              1,
              "#f0f921"
             ]
            ],
            "type": "surface"
           }
          ],
          "table": [
           {
            "cells": {
             "fill": {
              "color": "#EBF0F8"
             },
             "line": {
              "color": "white"
             }
            },
            "header": {
             "fill": {
              "color": "#C8D4E3"
             },
             "line": {
              "color": "white"
             }
            },
            "type": "table"
           }
          ]
         },
         "layout": {
          "annotationdefaults": {
           "arrowcolor": "#2a3f5f",
           "arrowhead": 0,
           "arrowwidth": 1
          },
          "autotypenumbers": "strict",
          "coloraxis": {
           "colorbar": {
            "outlinewidth": 0,
            "ticks": ""
           }
          },
          "colorscale": {
           "diverging": [
            [
             0,
             "#8e0152"
            ],
            [
             0.1,
             "#c51b7d"
            ],
            [
             0.2,
             "#de77ae"
            ],
            [
             0.3,
             "#f1b6da"
            ],
            [
             0.4,
             "#fde0ef"
            ],
            [
             0.5,
             "#f7f7f7"
            ],
            [
             0.6,
             "#e6f5d0"
            ],
            [
             0.7,
             "#b8e186"
            ],
            [
             0.8,
             "#7fbc41"
            ],
            [
             0.9,
             "#4d9221"
            ],
            [
             1,
             "#276419"
            ]
           ],
           "sequential": [
            [
             0,
             "#0d0887"
            ],
            [
             0.1111111111111111,
             "#46039f"
            ],
            [
             0.2222222222222222,
             "#7201a8"
            ],
            [
             0.3333333333333333,
             "#9c179e"
            ],
            [
             0.4444444444444444,
             "#bd3786"
            ],
            [
             0.5555555555555556,
             "#d8576b"
            ],
            [
             0.6666666666666666,
             "#ed7953"
            ],
            [
             0.7777777777777778,
             "#fb9f3a"
            ],
            [
             0.8888888888888888,
             "#fdca26"
            ],
            [
             1,
             "#f0f921"
            ]
           ],
           "sequentialminus": [
            [
             0,
             "#0d0887"
            ],
            [
             0.1111111111111111,
             "#46039f"
            ],
            [
             0.2222222222222222,
             "#7201a8"
            ],
            [
             0.3333333333333333,
             "#9c179e"
            ],
            [
             0.4444444444444444,
             "#bd3786"
            ],
            [
             0.5555555555555556,
             "#d8576b"
            ],
            [
             0.6666666666666666,
             "#ed7953"
            ],
            [
             0.7777777777777778,
             "#fb9f3a"
            ],
            [
             0.8888888888888888,
             "#fdca26"
            ],
            [
             1,
             "#f0f921"
            ]
           ]
          },
          "colorway": [
           "#636efa",
           "#EF553B",
           "#00cc96",
           "#ab63fa",
           "#FFA15A",
           "#19d3f3",
           "#FF6692",
           "#B6E880",
           "#FF97FF",
           "#FECB52"
          ],
          "font": {
           "color": "#2a3f5f"
          },
          "geo": {
           "bgcolor": "white",
           "lakecolor": "white",
           "landcolor": "#E5ECF6",
           "showlakes": true,
           "showland": true,
           "subunitcolor": "white"
          },
          "hoverlabel": {
           "align": "left"
          },
          "hovermode": "closest",
          "mapbox": {
           "style": "light"
          },
          "paper_bgcolor": "white",
          "plot_bgcolor": "#E5ECF6",
          "polar": {
           "angularaxis": {
            "gridcolor": "white",
            "linecolor": "white",
            "ticks": ""
           },
           "bgcolor": "#E5ECF6",
           "radialaxis": {
            "gridcolor": "white",
            "linecolor": "white",
            "ticks": ""
           }
          },
          "scene": {
           "xaxis": {
            "backgroundcolor": "#E5ECF6",
            "gridcolor": "white",
            "gridwidth": 2,
            "linecolor": "white",
            "showbackground": true,
            "ticks": "",
            "zerolinecolor": "white"
           },
           "yaxis": {
            "backgroundcolor": "#E5ECF6",
            "gridcolor": "white",
            "gridwidth": 2,
            "linecolor": "white",
            "showbackground": true,
            "ticks": "",
            "zerolinecolor": "white"
           },
           "zaxis": {
            "backgroundcolor": "#E5ECF6",
            "gridcolor": "white",
            "gridwidth": 2,
            "linecolor": "white",
            "showbackground": true,
            "ticks": "",
            "zerolinecolor": "white"
           }
          },
          "shapedefaults": {
           "line": {
            "color": "#2a3f5f"
           }
          },
          "ternary": {
           "aaxis": {
            "gridcolor": "white",
            "linecolor": "white",
            "ticks": ""
           },
           "baxis": {
            "gridcolor": "white",
            "linecolor": "white",
            "ticks": ""
           },
           "bgcolor": "#E5ECF6",
           "caxis": {
            "gridcolor": "white",
            "linecolor": "white",
            "ticks": ""
           }
          },
          "title": {
           "x": 0.05
          },
          "xaxis": {
           "automargin": true,
           "gridcolor": "white",
           "linecolor": "white",
           "ticks": "",
           "title": {
            "standoff": 15
           },
           "zerolinecolor": "white",
           "zerolinewidth": 2
          },
          "yaxis": {
           "automargin": true,
           "gridcolor": "white",
           "linecolor": "white",
           "ticks": "",
           "title": {
            "standoff": 15
           },
           "zerolinecolor": "white",
           "zerolinewidth": 2
          }
         }
        }
       }
      }
     },
     "metadata": {},
     "output_type": "display_data"
    }
   ],
   "source": [
    "fig = px.density_mapbox(df_metro, lat='X', lon='Y', z='potok', radius=40,\n",
    "                        center=dict(lat=55.75876, lon=37.62573), zoom=9,\n",
    "                        mapbox_style=\"open-street-map\")\n",
    "fig.show()"
   ]
  },
  {
   "cell_type": "code",
   "execution_count": null,
   "metadata": {},
   "outputs": [],
   "source": []
  }
 ],
 "metadata": {
  "kernelspec": {
   "display_name": "Python 3",
   "language": "python",
   "name": "python3"
  },
  "language_info": {
   "codemirror_mode": {
    "name": "ipython",
    "version": 3
   },
   "file_extension": ".py",
   "mimetype": "text/x-python",
   "name": "python",
   "nbconvert_exporter": "python",
   "pygments_lexer": "ipython3",
   "version": "3.11.7"
  }
 },
 "nbformat": 4,
 "nbformat_minor": 2
}
