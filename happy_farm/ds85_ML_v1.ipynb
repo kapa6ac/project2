{
 "cells": [
  {
   "cell_type": "markdown",
   "metadata": {},
   "source": [
    "# Описалово"
   ]
  },
  {
   "cell_type": "markdown",
   "metadata": {},
   "source": [
    "# 0. Подготовительные шаги и функции  \n",
    "Загружаю библиотеки и объявляю константы"
   ]
  },
  {
   "cell_type": "code",
   "execution_count": 53,
   "metadata": {},
   "outputs": [],
   "source": [
    "import pandas as pd\n",
    "from scipy import stats as st\n",
    "import seaborn as sns\n",
    "import matplotlib.pyplot as plt\n",
    "from statistics import mean \n",
    "import math\n",
    "DF_NAMES = ['df_cow', 'df_main', 'df_dad']"
   ]
  },
  {
   "cell_type": "markdown",
   "metadata": {},
   "source": [
    "# 1. Предобработка данных"
   ]
  },
  {
   "cell_type": "markdown",
   "metadata": {},
   "source": [
    "## Преамбула  \n",
    "### Для выполнения задачи заказчиком были переданы три набора данных  \n",
    " - ferma_main.csv - содержит данные о стаде на данный момент;  \n",
    " - ferma_dad.csv - содержит клички быков родителей каждой коровы в стаде фермера;  \n",
    " - cow_buy.csv - данне о коровах \"ЭкоФермы\" предложенных к покупке заказчиком;  \n",
    " В ходе дальнейших действий я произведу манипуляции с данными подготавливая их для дальнейших операций."
   ]
  },
  {
   "cell_type": "markdown",
   "metadata": {},
   "source": [
    "#### Загружаю данные из файлов в датафреймы. Т.к. работу выполнял локально добавил проверку."
   ]
  },
  {
   "cell_type": "code",
   "execution_count": 54,
   "metadata": {},
   "outputs": [],
   "source": [
    "try:\n",
    "    df_cow=pd.read_csv('c:/ps/project/happy_farm/data/cow_buy.csv', sep=';', decimal=\",\")\n",
    "    df_main=pd.read_csv('c:/ps/project/happy_farm/data/ferma_main.csv', sep=';', decimal=\",\")\n",
    "    df_dad=pd.read_csv('c:/ps/project/happy_farm/data/ferma_dad.csv', sep=';', decimal=\",\")\n",
    "except:\n",
    "    df_cow=pd.read_csv('/datasets/cow_buy.csv', sep=';', decimal=\",\")\n",
    "    df_main=pd.read_csv('/datasets/ferma_main.csv', sep=';', decimal=\",\")\n",
    "    df_dad=pd.read_csv('/datasets/ferma_dad.csv', sep=';', decimal=\",\")"
   ]
  },
  {
   "cell_type": "markdown",
   "metadata": {},
   "source": [
    "В файлах использовался не стандартный разделитель, пришлось добавить разделитель. Указал разделитель для дробных данных, чтобы иметь возможность их корректно обрабатывать."
   ]
  },
  {
   "cell_type": "markdown",
   "metadata": {},
   "source": [
    "#### Проанализирую содержимое таблиц и тип хранимых данных."
   ]
  },
  {
   "cell_type": "markdown",
   "metadata": {},
   "source": [
    "##### Выведу пять случайных строк каждой таблицы, чтобы посмотреть на их содержимое."
   ]
  },
  {
   "cell_type": "code",
   "execution_count": 55,
   "metadata": {},
   "outputs": [
    {
     "data": {
      "text/html": [
       "<div>\n",
       "<style scoped>\n",
       "    .dataframe tbody tr th:only-of-type {\n",
       "        vertical-align: middle;\n",
       "    }\n",
       "\n",
       "    .dataframe tbody tr th {\n",
       "        vertical-align: top;\n",
       "    }\n",
       "\n",
       "    .dataframe thead th {\n",
       "        text-align: right;\n",
       "    }\n",
       "</style>\n",
       "<table border=\"1\" class=\"dataframe\">\n",
       "  <thead>\n",
       "    <tr style=\"text-align: right;\">\n",
       "      <th></th>\n",
       "      <th>Порода</th>\n",
       "      <th>Тип пастбища</th>\n",
       "      <th>порода папы_быка</th>\n",
       "      <th>Имя_папы</th>\n",
       "      <th>Текущая_жирность,%</th>\n",
       "      <th>Текущий_уровень_белок,%</th>\n",
       "      <th>Возраст</th>\n",
       "    </tr>\n",
       "  </thead>\n",
       "  <tbody>\n",
       "    <tr>\n",
       "      <th>10</th>\n",
       "      <td>Вис Бик Айдиал</td>\n",
       "      <td>холмистое</td>\n",
       "      <td>Соверин</td>\n",
       "      <td>Соловчик</td>\n",
       "      <td>3.73</td>\n",
       "      <td>3.055</td>\n",
       "      <td>более_2_лет</td>\n",
       "    </tr>\n",
       "    <tr>\n",
       "      <th>2</th>\n",
       "      <td>РефлешнСоверинг</td>\n",
       "      <td>равнинное</td>\n",
       "      <td>Соверин</td>\n",
       "      <td>Барин</td>\n",
       "      <td>3.59</td>\n",
       "      <td>3.074</td>\n",
       "      <td>более_2_лет</td>\n",
       "    </tr>\n",
       "    <tr>\n",
       "      <th>9</th>\n",
       "      <td>РефлешнСоверинг</td>\n",
       "      <td>холмистое</td>\n",
       "      <td>Айдиал</td>\n",
       "      <td>Буйный</td>\n",
       "      <td>3.40</td>\n",
       "      <td>3.079</td>\n",
       "      <td>менее_2_лет</td>\n",
       "    </tr>\n",
       "    <tr>\n",
       "      <th>12</th>\n",
       "      <td>Вис Бик Айдиал</td>\n",
       "      <td>холмистое</td>\n",
       "      <td>Айдиал</td>\n",
       "      <td>Геркулес</td>\n",
       "      <td>3.68</td>\n",
       "      <td>3.046</td>\n",
       "      <td>более_2_лет</td>\n",
       "    </tr>\n",
       "    <tr>\n",
       "      <th>15</th>\n",
       "      <td>РефлешнСоверинг</td>\n",
       "      <td>холмистое</td>\n",
       "      <td>Айдиал</td>\n",
       "      <td>Буйный</td>\n",
       "      <td>3.40</td>\n",
       "      <td>3.065</td>\n",
       "      <td>более_2_лет</td>\n",
       "    </tr>\n",
       "  </tbody>\n",
       "</table>\n",
       "</div>"
      ],
      "text/plain": [
       "             Порода Тип пастбища порода папы_быка  Имя_папы  \\\n",
       "10   Вис Бик Айдиал    холмистое          Соверин  Соловчик   \n",
       "2   РефлешнСоверинг    равнинное          Соверин     Барин   \n",
       "9   РефлешнСоверинг    холмистое           Айдиал    Буйный   \n",
       "12   Вис Бик Айдиал    холмистое           Айдиал  Геркулес   \n",
       "15  РефлешнСоверинг    холмистое           Айдиал    Буйный   \n",
       "\n",
       "    Текущая_жирность,%  Текущий_уровень_белок,%      Возраст  \n",
       "10                3.73                    3.055  более_2_лет  \n",
       "2                 3.59                    3.074  более_2_лет  \n",
       "9                 3.40                    3.079  менее_2_лет  \n",
       "12                3.68                    3.046  более_2_лет  \n",
       "15                3.40                    3.065  более_2_лет  "
      ]
     },
     "metadata": {},
     "output_type": "display_data"
    },
    {
     "data": {
      "text/html": [
       "<div>\n",
       "<style scoped>\n",
       "    .dataframe tbody tr th:only-of-type {\n",
       "        vertical-align: middle;\n",
       "    }\n",
       "\n",
       "    .dataframe tbody tr th {\n",
       "        vertical-align: top;\n",
       "    }\n",
       "\n",
       "    .dataframe thead th {\n",
       "        text-align: right;\n",
       "    }\n",
       "</style>\n",
       "<table border=\"1\" class=\"dataframe\">\n",
       "  <thead>\n",
       "    <tr style=\"text-align: right;\">\n",
       "      <th></th>\n",
       "      <th>id</th>\n",
       "      <th>Удой, кг</th>\n",
       "      <th>ЭКЕ (Энергетическая кормовая единица)</th>\n",
       "      <th>Сырой протеин, г</th>\n",
       "      <th>СПО (Сахаро-протеиновое соотношение)</th>\n",
       "      <th>Порода</th>\n",
       "      <th>Тип пастбища</th>\n",
       "      <th>порода папы_быка</th>\n",
       "      <th>Жирность,%</th>\n",
       "      <th>Белок,%</th>\n",
       "      <th>Вкус молока</th>\n",
       "      <th>Возраст</th>\n",
       "    </tr>\n",
       "  </thead>\n",
       "  <tbody>\n",
       "    <tr>\n",
       "      <th>620</th>\n",
       "      <td>621</td>\n",
       "      <td>6813</td>\n",
       "      <td>14.5</td>\n",
       "      <td>1712</td>\n",
       "      <td>0.96</td>\n",
       "      <td>РефлешнСоверинг</td>\n",
       "      <td>Равнинное</td>\n",
       "      <td>Айдиал</td>\n",
       "      <td>3.72</td>\n",
       "      <td>3.075</td>\n",
       "      <td>вкусно</td>\n",
       "      <td>более_2_лет</td>\n",
       "    </tr>\n",
       "    <tr>\n",
       "      <th>397</th>\n",
       "      <td>398</td>\n",
       "      <td>5207</td>\n",
       "      <td>13.3</td>\n",
       "      <td>1829</td>\n",
       "      <td>0.89</td>\n",
       "      <td>РефлешнСоверинг</td>\n",
       "      <td>Холмистое</td>\n",
       "      <td>Соверин</td>\n",
       "      <td>3.48</td>\n",
       "      <td>3.077</td>\n",
       "      <td>не вкусно</td>\n",
       "      <td>менее_2_лет</td>\n",
       "    </tr>\n",
       "    <tr>\n",
       "      <th>95</th>\n",
       "      <td>96</td>\n",
       "      <td>6976</td>\n",
       "      <td>16.4</td>\n",
       "      <td>2263</td>\n",
       "      <td>0.95</td>\n",
       "      <td>Вис Бик Айдиал</td>\n",
       "      <td>Холмистое</td>\n",
       "      <td>Айдиалл</td>\n",
       "      <td>3.71</td>\n",
       "      <td>3.078</td>\n",
       "      <td>вкусно</td>\n",
       "      <td>более_2_лет</td>\n",
       "    </tr>\n",
       "    <tr>\n",
       "      <th>316</th>\n",
       "      <td>317</td>\n",
       "      <td>6515</td>\n",
       "      <td>15.2</td>\n",
       "      <td>2221</td>\n",
       "      <td>0.93</td>\n",
       "      <td>Вис Бик Айдиал</td>\n",
       "      <td>Холмистое</td>\n",
       "      <td>Соверин</td>\n",
       "      <td>3.72</td>\n",
       "      <td>3.077</td>\n",
       "      <td>не вкусно</td>\n",
       "      <td>более_2_лет</td>\n",
       "    </tr>\n",
       "    <tr>\n",
       "      <th>401</th>\n",
       "      <td>402</td>\n",
       "      <td>5814</td>\n",
       "      <td>14.6</td>\n",
       "      <td>1794</td>\n",
       "      <td>0.89</td>\n",
       "      <td>Вис Бик Айдиал</td>\n",
       "      <td>Холмистое</td>\n",
       "      <td>Соверин</td>\n",
       "      <td>3.59</td>\n",
       "      <td>3.077</td>\n",
       "      <td>вкусно</td>\n",
       "      <td>более_2_лет</td>\n",
       "    </tr>\n",
       "  </tbody>\n",
       "</table>\n",
       "</div>"
      ],
      "text/plain": [
       "      id  Удой, кг  ЭКЕ (Энергетическая кормовая единица)  Сырой протеин, г  \\\n",
       "620  621      6813                                   14.5              1712   \n",
       "397  398      5207                                   13.3              1829   \n",
       "95    96      6976                                   16.4              2263   \n",
       "316  317      6515                                   15.2              2221   \n",
       "401  402      5814                                   14.6              1794   \n",
       "\n",
       "     СПО (Сахаро-протеиновое соотношение)           Порода Тип пастбища  \\\n",
       "620                                  0.96  РефлешнСоверинг    Равнинное   \n",
       "397                                  0.89  РефлешнСоверинг    Холмистое   \n",
       "95                                   0.95   Вис Бик Айдиал    Холмистое   \n",
       "316                                  0.93   Вис Бик Айдиал    Холмистое   \n",
       "401                                  0.89   Вис Бик Айдиал    Холмистое   \n",
       "\n",
       "    порода папы_быка  Жирность,%  Белок,% Вкус молока      Возраст  \n",
       "620           Айдиал        3.72    3.075      вкусно  более_2_лет  \n",
       "397          Соверин        3.48    3.077   не вкусно  менее_2_лет  \n",
       "95           Айдиалл        3.71    3.078      вкусно  более_2_лет  \n",
       "316          Соверин        3.72    3.077   не вкусно  более_2_лет  \n",
       "401          Соверин        3.59    3.077      вкусно  более_2_лет  "
      ]
     },
     "metadata": {},
     "output_type": "display_data"
    },
    {
     "data": {
      "text/html": [
       "<div>\n",
       "<style scoped>\n",
       "    .dataframe tbody tr th:only-of-type {\n",
       "        vertical-align: middle;\n",
       "    }\n",
       "\n",
       "    .dataframe tbody tr th {\n",
       "        vertical-align: top;\n",
       "    }\n",
       "\n",
       "    .dataframe thead th {\n",
       "        text-align: right;\n",
       "    }\n",
       "</style>\n",
       "<table border=\"1\" class=\"dataframe\">\n",
       "  <thead>\n",
       "    <tr style=\"text-align: right;\">\n",
       "      <th></th>\n",
       "      <th>id</th>\n",
       "      <th>Имя Папы</th>\n",
       "    </tr>\n",
       "  </thead>\n",
       "  <tbody>\n",
       "    <tr>\n",
       "      <th>476</th>\n",
       "      <td>477</td>\n",
       "      <td>Барин</td>\n",
       "    </tr>\n",
       "    <tr>\n",
       "      <th>546</th>\n",
       "      <td>547</td>\n",
       "      <td>Барин</td>\n",
       "    </tr>\n",
       "    <tr>\n",
       "      <th>76</th>\n",
       "      <td>77</td>\n",
       "      <td>Геркулес</td>\n",
       "    </tr>\n",
       "    <tr>\n",
       "      <th>459</th>\n",
       "      <td>460</td>\n",
       "      <td>Соловчик</td>\n",
       "    </tr>\n",
       "    <tr>\n",
       "      <th>176</th>\n",
       "      <td>177</td>\n",
       "      <td>Геркулес</td>\n",
       "    </tr>\n",
       "  </tbody>\n",
       "</table>\n",
       "</div>"
      ],
      "text/plain": [
       "      id  Имя Папы\n",
       "476  477     Барин\n",
       "546  547     Барин\n",
       "76    77  Геркулес\n",
       "459  460  Соловчик\n",
       "176  177  Геркулес"
      ]
     },
     "metadata": {},
     "output_type": "display_data"
    }
   ],
   "source": [
    "display(df_cow.sample(5))\n",
    "display(df_main.sample(5))\n",
    "display(df_dad.sample(5))"
   ]
  },
  {
   "cell_type": "markdown",
   "metadata": {},
   "source": [
    "##### Посмотрю соответствие типов столбцов описанным в задаче типам."
   ]
  },
  {
   "cell_type": "code",
   "execution_count": 56,
   "metadata": {},
   "outputs": [
    {
     "name": "stdout",
     "output_type": "stream",
     "text": [
      "<class 'pandas.core.frame.DataFrame'>\n",
      "RangeIndex: 20 entries, 0 to 19\n",
      "Data columns (total 7 columns):\n",
      " #   Column                   Non-Null Count  Dtype  \n",
      "---  ------                   --------------  -----  \n",
      " 0   Порода                   20 non-null     object \n",
      " 1   Тип пастбища             20 non-null     object \n",
      " 2   порода папы_быка         20 non-null     object \n",
      " 3   Имя_папы                 20 non-null     object \n",
      " 4   Текущая_жирность,%       20 non-null     float64\n",
      " 5   Текущий_уровень_белок,%  20 non-null     float64\n",
      " 6   Возраст                  20 non-null     object \n",
      "dtypes: float64(2), object(5)\n",
      "memory usage: 1.2+ KB\n"
     ]
    },
    {
     "data": {
      "text/plain": [
       "None"
      ]
     },
     "metadata": {},
     "output_type": "display_data"
    },
    {
     "name": "stdout",
     "output_type": "stream",
     "text": [
      "<class 'pandas.core.frame.DataFrame'>\n",
      "RangeIndex: 634 entries, 0 to 633\n",
      "Data columns (total 12 columns):\n",
      " #   Column                                 Non-Null Count  Dtype  \n",
      "---  ------                                 --------------  -----  \n",
      " 0   id                                     634 non-null    int64  \n",
      " 1   Удой, кг                               634 non-null    int64  \n",
      " 2   ЭКЕ (Энергетическая кормовая единица)  634 non-null    float64\n",
      " 3   Сырой протеин, г                       634 non-null    int64  \n",
      " 4   СПО (Сахаро-протеиновое соотношение)   634 non-null    float64\n",
      " 5   Порода                                 634 non-null    object \n",
      " 6   Тип пастбища                           634 non-null    object \n",
      " 7   порода папы_быка                       634 non-null    object \n",
      " 8   Жирность,%                             634 non-null    float64\n",
      " 9   Белок,%                                634 non-null    float64\n",
      " 10  Вкус молока                            634 non-null    object \n",
      " 11  Возраст                                634 non-null    object \n",
      "dtypes: float64(4), int64(3), object(5)\n",
      "memory usage: 59.6+ KB\n"
     ]
    },
    {
     "data": {
      "text/plain": [
       "None"
      ]
     },
     "metadata": {},
     "output_type": "display_data"
    },
    {
     "name": "stdout",
     "output_type": "stream",
     "text": [
      "<class 'pandas.core.frame.DataFrame'>\n",
      "RangeIndex: 629 entries, 0 to 628\n",
      "Data columns (total 2 columns):\n",
      " #   Column    Non-Null Count  Dtype \n",
      "---  ------    --------------  ----- \n",
      " 0   id        629 non-null    int64 \n",
      " 1   Имя Папы  629 non-null    object\n",
      "dtypes: int64(1), object(1)\n",
      "memory usage: 10.0+ KB\n"
     ]
    },
    {
     "data": {
      "text/plain": [
       "None"
      ]
     },
     "metadata": {},
     "output_type": "display_data"
    }
   ],
   "source": [
    "display(df_cow.info(True))\n",
    "display(df_main.info(True))\n",
    "display(df_dad.info(True))"
   ]
  },
  {
   "cell_type": "markdown",
   "metadata": {},
   "source": [
    "Можно заметить, что пропусков в столбцах нет.  \n",
    "Формат столбцов не соответствует хранимым в них данным. Именование столбцов тоже мне не подходят. Изменю тип даннх столбцов немного позже - после переименования столбцов."
   ]
  },
  {
   "cell_type": "markdown",
   "metadata": {},
   "source": [
    "#### Проверю именование столбцов"
   ]
  },
  {
   "cell_type": "code",
   "execution_count": 57,
   "metadata": {},
   "outputs": [
    {
     "data": {
      "text/plain": [
       "'COW - table'"
      ]
     },
     "metadata": {},
     "output_type": "display_data"
    },
    {
     "data": {
      "text/plain": [
       "['Порода',\n",
       " 'Тип пастбища',\n",
       " 'порода папы_быка',\n",
       " 'Имя_папы',\n",
       " 'Текущая_жирность,%',\n",
       " 'Текущий_уровень_белок,%',\n",
       " 'Возраст']"
      ]
     },
     "metadata": {},
     "output_type": "display_data"
    },
    {
     "data": {
      "text/plain": [
       "'MAIN - table'"
      ]
     },
     "metadata": {},
     "output_type": "display_data"
    },
    {
     "data": {
      "text/plain": [
       "['id',\n",
       " 'Удой, кг',\n",
       " 'ЭКЕ (Энергетическая кормовая единица)',\n",
       " 'Сырой протеин, г',\n",
       " 'СПО (Сахаро-протеиновое соотношение)',\n",
       " 'Порода',\n",
       " 'Тип пастбища',\n",
       " 'порода папы_быка',\n",
       " 'Жирность,%',\n",
       " 'Белок,%',\n",
       " 'Вкус молока',\n",
       " 'Возраст']"
      ]
     },
     "metadata": {},
     "output_type": "display_data"
    },
    {
     "data": {
      "text/plain": [
       "'DAD - table'"
      ]
     },
     "metadata": {},
     "output_type": "display_data"
    },
    {
     "data": {
      "text/plain": [
       "['id', 'Имя Папы']"
      ]
     },
     "metadata": {},
     "output_type": "display_data"
    }
   ],
   "source": [
    "display('COW - table')\n",
    "display(df_cow.columns.tolist())\n",
    "display('MAIN - table')\n",
    "display(df_main.columns.tolist())\n",
    "display('DAD - table')\n",
    "display(df_dad.columns.tolist())"
   ]
  },
  {
   "cell_type": "markdown",
   "metadata": {},
   "source": [
    "Именование столбцов не соттветсвует требованиям. Переименовываю."
   ]
  },
  {
   "cell_type": "code",
   "execution_count": 58,
   "metadata": {},
   "outputs": [],
   "source": [
    "df_cow.columns = ['breed',\n",
    "                  'pasture_type',\n",
    "                  'breed_dad',\n",
    "                  'dad_name',\n",
    "                  'fat_per',\n",
    "                  'protein_per',\n",
    "                  'age']\n",
    "df_main.columns = ['id',\n",
    "                   'yield',\n",
    "                   'eke',\n",
    "                   'protein_weight',\n",
    "                   'spo',\n",
    "                   'breed',\n",
    "                   'pasture_type',\n",
    "                   'breed_dad',\n",
    "                   'fat_per',\n",
    "                   'protein_per',\n",
    "                   'taste',\n",
    "                   'age']\n",
    "df_dad.columns = ['id', \n",
    "                  'name']\n",
    "\n"
   ]
  },
  {
   "cell_type": "markdown",
   "metadata": {},
   "source": [
    "#### Меняю тип данных столбцов в соответствии с таблицей:  "
   ]
  },
  {
   "cell_type": "markdown",
   "metadata": {},
   "source": [
    "**df_cow**\n",
    "| Имя столбца    | Тип данных  | Новый тип данных |\n",
    "|:---------------|:-----------:|:----------------:|\n",
    "| breed          | object      | object           |\n",
    "| pasture_type   | object      | object           |\n",
    "| breed_dad      | object      | object           |\n",
    "| dad_name       | object      | object           |\n",
    "| fat_per        | object      | float64          |\n",
    "| protein_per    | object      | float64          |\n",
    "| age            | object      | object           |  \n",
    "\n",
    "**df_main**\n",
    "| Имя столбца    | Тип данных  | Новый тип данных |\n",
    "|:---------------|:-----------:|:----------------:|\n",
    "| id             | int64       | int64            |\n",
    "| yield          | int64       | int64            |\n",
    "| eke            | object      | float64          |\n",
    "| protein_weight | int64       | int64            |\n",
    "| spo            | object      | float64          |\n",
    "| breed          | object      | object           |\n",
    "| pasture_type   | object      | object           |\n",
    "| breed_dad      | object      | object           |\n",
    "| fat_per        | object      | float64          |\n",
    "| protein_per    | object      | float64          |\n",
    "| taste          | object      | object           |\n",
    "| age            | object      | object           |  \n",
    "\n",
    "**df_dad**\n",
    "| Имя столбца    | Тип данных  | Новый тип данных |\n",
    "|:---------------|:-----------:|:----------------:|\n",
    "| id             | object      | int64            |\n",
    "| name           | object      | object           |"
   ]
  },
  {
   "cell_type": "code",
   "execution_count": 59,
   "metadata": {},
   "outputs": [],
   "source": [
    "df_cow = df_cow.astype({\n",
    "    'fat_per': float,\n",
    "    'protein_per': float\n",
    "    \n",
    "})\n",
    "\n",
    "df_main = df_main.astype({\n",
    "    'eke': float,\n",
    "    'spo': float,\n",
    "    'fat_per': float,\n",
    "    'protein_per': float\n",
    "})\n",
    "\n",
    "df_dad = df_dad.astype({\n",
    "    'id': float    \n",
    "})"
   ]
  },
  {
   "cell_type": "markdown",
   "metadata": {},
   "source": [
    "#### Проверю таблицы на дубликаты"
   ]
  },
  {
   "cell_type": "markdown",
   "metadata": {},
   "source": [
    "##### Выведу список явных дубликатов"
   ]
  },
  {
   "cell_type": "code",
   "execution_count": 60,
   "metadata": {},
   "outputs": [
    {
     "name": "stdout",
     "output_type": "stream",
     "text": [
      "В df_cow найдено дубликатов: 4\n",
      "В df_main найдено дубликатов: 5\n",
      "В df_dad найдено дубликатов: 0\n"
     ]
    }
   ],
   "source": [
    "print(f'В df_cow найдено дубликатов: {df_cow.duplicated().sum()}')\n",
    "print(f'В df_main найдено дубликатов: {df_main.duplicated().sum()}')\n",
    "print(f'В df_dad найдено дубликатов: {df_dad.duplicated().sum()}')"
   ]
  },
  {
   "cell_type": "markdown",
   "metadata": {},
   "source": [
    "##### Удаляю явные дубликаты"
   ]
  },
  {
   "cell_type": "code",
   "execution_count": 61,
   "metadata": {},
   "outputs": [],
   "source": [
    "df_cow = df_cow.drop_duplicates()\n",
    "df_main = df_main.drop_duplicates()"
   ]
  },
  {
   "cell_type": "markdown",
   "metadata": {},
   "source": [
    "## Вывод:  \n",
    "Я очистил, дополнил, исправил."
   ]
  },
  {
   "cell_type": "markdown",
   "metadata": {},
   "source": [
    "# 2. Исследовательский анализ данных"
   ]
  },
  {
   "cell_type": "markdown",
   "metadata": {},
   "source": [
    "## Преамбула"
   ]
  },
  {
   "cell_type": "markdown",
   "metadata": {},
   "source": [
    "## Вывод"
   ]
  },
  {
   "cell_type": "markdown",
   "metadata": {},
   "source": [
    "# 3. Подготовка данных к машинному обучению"
   ]
  },
  {
   "cell_type": "markdown",
   "metadata": {},
   "source": [
    "## Преамбула"
   ]
  },
  {
   "cell_type": "markdown",
   "metadata": {},
   "source": [
    "## Вывод"
   ]
  },
  {
   "cell_type": "markdown",
   "metadata": {},
   "source": [
    "# 4. Обучение и настройка модели"
   ]
  },
  {
   "cell_type": "markdown",
   "metadata": {},
   "source": [
    "## Преамбула"
   ]
  },
  {
   "cell_type": "markdown",
   "metadata": {},
   "source": [
    "## Вывод"
   ]
  },
  {
   "cell_type": "markdown",
   "metadata": {},
   "source": [
    "# 5. Тестирование модели"
   ]
  },
  {
   "cell_type": "markdown",
   "metadata": {},
   "source": [
    "## Преамбула"
   ]
  },
  {
   "cell_type": "markdown",
   "metadata": {},
   "source": [
    "## Вывод"
   ]
  },
  {
   "cell_type": "markdown",
   "metadata": {},
   "source": [
    "# 6. Вывод"
   ]
  },
  {
   "cell_type": "markdown",
   "metadata": {},
   "source": []
  }
 ],
 "metadata": {
  "kernelspec": {
   "display_name": "Python 3",
   "language": "python",
   "name": "python3"
  },
  "language_info": {
   "codemirror_mode": {
    "name": "ipython",
    "version": 3
   },
   "file_extension": ".py",
   "mimetype": "text/x-python",
   "name": "python",
   "nbconvert_exporter": "python",
   "pygments_lexer": "ipython3",
   "version": "3.11.7"
  }
 },
 "nbformat": 4,
 "nbformat_minor": 2
}
